{
 "cells": [
  {
   "cell_type": "markdown",
   "id": "b14b354d",
   "metadata": {},
   "source": [
    "# Recommender Systems - Tutorial 1 (Lab 1)\n",
    "### Individual Recommender Systems\n",
    "\n",
    "In this tutorial, we will see some implementations for the strategies to implement individual recommender systems seen in the first lectures of the course. At the same time, we will introduce some libraries useful for machine learning applications in python."
   ]
  },
  {
   "cell_type": "markdown",
   "id": "22df946d",
   "metadata": {},
   "source": [
    "#### 1. Dataset\n",
    "\n",
    "First, we need to provide some data. In this tutorial, we will use the \n",
    "[Movielens latest small](https://www.kaggle.com/grouplens/movielens-latest-small). Other datasets can be found on Canvas, in the [Project Resources](https://canvas.maastrichtuniversity.nl/courses/7954/pages/project-resources?module_item_id=203858) module. We download the dataset and we insert the files in the folder *dataset*. The dataset contains several files CSV. We can start using the [pandas](https://pandas.pydata.org/) library to read the content of the CSV files and use it.\n",
    "\n",
    "Let's see the first 10 rows to check which contents are provided by the *ratings.csv* and the *movies.csv* files. To do so, we use the *read_csv* method which returns a pandas [Dataframe](https://pandas.pydata.org/docs/reference/api/pandas.DataFrame.html) object containing the information read from the csv file. Such object provides several methods to manipulate the data in it, and we will use the *head(N)* method, which returns the first *N* rows of the dataframe."
   ]
  },
  {
   "cell_type": "code",
   "execution_count": 9,
   "id": "9f29eb60",
   "metadata": {},
   "outputs": [],
   "source": [
    "dataset_folder = \"./dataset\"\n",
    "\n",
    "import pandas as pd"
   ]
  },
  {
   "cell_type": "code",
   "execution_count": 28,
   "id": "479d9c57",
   "metadata": {},
   "outputs": [
    {
     "name": "stdout",
     "output_type": "stream",
     "text": [
      "   userId  movieId  rating  timestamp\n",
      "0       1        1     4.0  964982703\n",
      "1       1        3     4.0  964981247\n",
      "2       1        6     4.0  964982224\n",
      "3       1       47     5.0  964983815\n",
      "4       1       50     5.0  964982931\n",
      "5       1       70     3.0  964982400\n",
      "6       1      101     5.0  964980868\n",
      "7       1      110     4.0  964982176\n",
      "8       1      151     5.0  964984041\n",
      "9       1      157     5.0  964984100\n"
     ]
    }
   ],
   "source": [
    "ratings_df = pd.read_csv(dataset_folder+\"/ratings.csv\") \n",
    "print(ratings_df.head(10))"
   ]
  },
  {
   "cell_type": "code",
   "execution_count": 29,
   "id": "68cd94e2",
   "metadata": {},
   "outputs": [
    {
     "name": "stdout",
     "output_type": "stream",
     "text": [
      "                                      title  \\\n",
      "movieId                                       \n",
      "1                          Toy Story (1995)   \n",
      "2                            Jumanji (1995)   \n",
      "3                   Grumpier Old Men (1995)   \n",
      "4                  Waiting to Exhale (1995)   \n",
      "5        Father of the Bride Part II (1995)   \n",
      "6                               Heat (1995)   \n",
      "7                            Sabrina (1995)   \n",
      "8                       Tom and Huck (1995)   \n",
      "9                       Sudden Death (1995)   \n",
      "10                         GoldenEye (1995)   \n",
      "\n",
      "                                              genres  \n",
      "movieId                                               \n",
      "1        Adventure|Animation|Children|Comedy|Fantasy  \n",
      "2                         Adventure|Children|Fantasy  \n",
      "3                                     Comedy|Romance  \n",
      "4                               Comedy|Drama|Romance  \n",
      "5                                             Comedy  \n",
      "6                              Action|Crime|Thriller  \n",
      "7                                     Comedy|Romance  \n",
      "8                                 Adventure|Children  \n",
      "9                                             Action  \n",
      "10                         Action|Adventure|Thriller  \n"
     ]
    }
   ],
   "source": [
    "movies_df = pd.read_csv(dataset_folder+\"/movies.csv\", index_col='movieId')\n",
    "print(movies_df.head(10))"
   ]
  },
  {
   "cell_type": "markdown",
   "id": "715e7c9f",
   "metadata": {},
   "source": [
    "The *ratings.csv* file contains ratings provided by an user for a movie, and the corresponding timestamp. The *movies.csv* provides information about the title and the genres of each movie."
   ]
  },
  {
   "cell_type": "markdown",
   "id": "1b304341",
   "metadata": {},
   "source": [
    "#### 2. Recommending highest rated movies\n",
    "\n",
    "A first idea to provide recommendations for our users can be to use the ratings provided and determine the highest rated movies. To do so, we first need to compute the average rating for each movie, and then determine the top rated. Let's use again the functions provided by the Dataframe object. In particular, we can use the *groupby* method to group the columns given a specific column values and compute and aggregate the values of each group. Then we use the *sort_values* method to sort the movies by average rating, and we print the first 10 movies."
   ]
  },
  {
   "cell_type": "code",
   "execution_count": 38,
   "id": "8414f383",
   "metadata": {},
   "outputs": [
    {
     "name": "stdout",
     "output_type": "stream",
     "text": [
      "         userId  rating     timestamp\n",
      "movieId                              \n",
      "88448     483.0     5.0  1.315438e+09\n",
      "100556    462.0     5.0  1.456151e+09\n",
      "143031     89.0     5.0  1.520409e+09\n",
      "143511    105.0     5.0  1.526207e+09\n",
      "143559     89.0     5.0  1.520410e+09\n",
      "6201      474.0     5.0  1.100120e+09\n",
      "102217     63.0     5.0  1.443200e+09\n",
      "102084    380.0     5.0  1.493422e+09\n",
      "6192      182.0     5.0  1.063275e+09\n",
      "145994    105.0     5.0  1.526207e+09\n"
     ]
    }
   ],
   "source": [
    "average_ratings_df = ratings_df.groupby(['movieId']).mean()\n",
    "sorted_avg_ratings_df = average_ratings_df.sort_values(by=\"rating\", ascending=False)\n",
    "\n",
    "print(sorted_avg_ratings_df.head(10))"
   ]
  },
  {
   "cell_type": "markdown",
   "id": "97a45c5e",
   "metadata": {},
   "source": [
    "Let's use the information in the movies_df to associate the title on each movie, and then print the list of recommended movies"
   ]
  },
  {
   "cell_type": "code",
   "execution_count": 39,
   "id": "8ba01c00",
   "metadata": {},
   "outputs": [
    {
     "name": "stdout",
     "output_type": "stream",
     "text": [
      "movieId\n",
      "88448         Paper Birds (Pájaros de papel) (2010)\n",
      "100556                   Act of Killing, The (2012)\n",
      "143031                              Jump In! (2007)\n",
      "143511                                 Human (2015)\n",
      "143559                          L.A. Slasher (2015)\n",
      "6201                               Lady Jane (1986)\n",
      "102217               Bill Hicks: Revelations (1993)\n",
      "102084                 Justice League: Doom (2012) \n",
      "6192      Open Hearts (Elsker dig for evigt) (2002)\n",
      "145994                       Formula of Love (1984)\n",
      "Name: title, dtype: object\n"
     ]
    }
   ],
   "source": [
    "joined_df = sorted_avg_ratings_df.join(movies_df, on='movieId')\n",
    "print(joined_df['title'].head(10))"
   ]
  },
  {
   "cell_type": "markdown",
   "id": "59b86779",
   "metadata": {},
   "source": [
    "The movie we recommend are not so famous. Why is this happening? Let's check how many people rated each of these movies. We use again the group_by method as follows:"
   ]
  },
  {
   "cell_type": "code",
   "execution_count": 44,
   "id": "7a316651",
   "metadata": {},
   "outputs": [
    {
     "name": "stdout",
     "output_type": "stream",
     "text": [
      "                                          title  count  rating\n",
      "7638      Paper Birds (Pájaros de papel) (2010)      1     5.0\n",
      "8089                 Act of Killing, The (2012)      1     5.0\n",
      "9065                            Jump In! (2007)      1     5.0\n",
      "9076                               Human (2015)      1     5.0\n",
      "9078                        L.A. Slasher (2015)      1     5.0\n",
      "4245                           Lady Jane (1986)      1     5.0\n",
      "8136             Bill Hicks: Revelations (1993)      1     5.0\n",
      "8130               Justice League: Doom (2012)       1     5.0\n",
      "4240  Open Hearts (Elsker dig for evigt) (2002)      1     5.0\n",
      "9104                     Formula of Love (1984)      1     5.0\n"
     ]
    }
   ],
   "source": [
    "average_ratings_df = ratings_df.groupby(['movieId']).agg(count=('userId', 'size'), rating=('rating', 'mean')).reset_index()\n",
    "sorted_avg_ratings_df = average_ratings_df.sort_values(by=\"rating\", ascending=False)\n",
    "joined_df = sorted_avg_ratings_df.join(movies_df, on='movieId')\n",
    "print(joined_df[['title', 'count', 'rating']].head(10))"
   ]
  },
  {
   "cell_type": "markdown",
   "id": "e345c6af",
   "metadata": {},
   "source": [
    "We can see that all the movies we selected have been rated by only one user. Let's try to recommend only movies that hjave been rated by at least 20 users. Note that the *movieId* column is the index for the Dataframe objects obtained using the *mean* and *count* methods."
   ]
  },
  {
   "cell_type": "code",
   "execution_count": 48,
   "id": "b4e1056e",
   "metadata": {
    "scrolled": true
   },
   "outputs": [
    {
     "name": "stdout",
     "output_type": "stream",
     "text": [
      "                                                 title    rating\n",
      "movieId                                                         \n",
      "318                   Shawshank Redemption, The (1994)  4.429022\n",
      "922      Sunset Blvd. (a.k.a. Sunset Boulevard) (1950)  4.333333\n",
      "898                     Philadelphia Story, The (1940)  4.310345\n",
      "475                   In the Name of the Father (1993)  4.300000\n",
      "1204                         Lawrence of Arabia (1962)  4.300000\n",
      "246                                 Hoop Dreams (1994)  4.293103\n",
      "858                              Godfather, The (1972)  4.289062\n",
      "1235                           Harold and Maude (1971)  4.288462\n",
      "168252                                    Logan (2017)  4.280000\n",
      "2959                                 Fight Club (1999)  4.272936\n"
     ]
    }
   ],
   "source": [
    "minimum_ratings = 20\n",
    "average_ratings_df = ratings_df.groupby(['movieId']).mean() #compute the average ratings for each movie\n",
    "rating_counts_df = ratings_df.groupby(['movieId']).count() #compute the number of evaluations for each movie\n",
    "average_ratings_df = average_ratings_df.loc[rating_counts_df['rating'] > minimum_ratings] #select the movies having the required number of evaluations\n",
    "sorted_avg_ratings_df = average_ratings_df.sort_values(by=\"rating\", ascending=False) #sort the movies according to the average ratings\n",
    "joined_df = sorted_avg_ratings_df.join(movies_df['title'], on='movieId') #associate the title\n",
    "print(joined_df[['title','rating']].head(10))"
   ]
  },
  {
   "cell_type": "markdown",
   "id": "8ca3cbdf",
   "metadata": {},
   "source": [
    "We can see now that the recommendation contains more famous movies"
   ]
  },
  {
   "cell_type": "markdown",
   "id": "986b3aee",
   "metadata": {},
   "source": [
    "#### 3. Recommending by genre\n",
    "\n"
   ]
  },
  {
   "cell_type": "code",
   "execution_count": 52,
   "id": "7a330a4f",
   "metadata": {},
   "outputs": [
    {
     "name": "stdout",
     "output_type": "stream",
     "text": [
      "                                                     title    rating\n",
      "movieId                                                             \n",
      "168252                                        Logan (2017)  4.280000\n",
      "2959                                     Fight Club (1999)  4.272936\n",
      "58559                              Dark Knight, The (2008)  4.238255\n",
      "1197                            Princess Bride, The (1987)  4.232394\n",
      "260              Star Wars: Episode IV - A New Hope (1977)  4.231076\n",
      "3275                           Boondock Saints, The (2000)  4.220930\n",
      "1208                                 Apocalypse Now (1979)  4.219626\n",
      "1196     Star Wars: Episode V - The Empire Strikes Back...  4.215640\n",
      "1233                          Boot, Das (Boat, The) (1981)  4.212500\n",
      "1198     Raiders of the Lost Ark (Indiana Jones and the...  4.207500\n"
     ]
    }
   ],
   "source": [
    "genre = 'Action'\n",
    "minimum_ratings = 20\n",
    "\n",
    "average_ratings_df = ratings_df.groupby(['movieId']).mean() #compute the average ratings for each movie\n",
    "rating_counts_df = ratings_df.groupby(['movieId']).count() #compute the number of evaluations for each movie\n",
    "average_ratings_df = average_ratings_df.loc[rating_counts_df['rating'] > minimum_ratings] #select the movies having the required number of evaluations\n",
    "average_ratings_df = average_ratings_df.join(movies_df['genres'], on='movieId')\n",
    "average_ratings_df = average_ratings_df.loc[average_ratings_df['genres'].str.contains(genre)]\n",
    "sorted_avg_ratings_df = average_ratings_df.sort_values(by=\"rating\", ascending=False) #sort the movies according to the average ratings\n",
    "joined_df = sorted_avg_ratings_df.join(movies_df['title'], on='movieId') #associate the title\n",
    "print(joined_df[['title','rating']].head(10))"
   ]
  },
  {
   "cell_type": "markdown",
   "id": "6dba86c5",
   "metadata": {},
   "source": [
    "#### 4. Content Based Recommender\n"
   ]
  },
  {
   "cell_type": "code",
   "execution_count": 69,
   "id": "1ca1838f",
   "metadata": {},
   "outputs": [
    {
     "name": "stdout",
     "output_type": "stream",
     "text": [
      "167\n"
     ]
    }
   ],
   "source": [
    "# use sklearn KNN"
   ]
  },
  {
   "cell_type": "markdown",
   "id": "bd013fbd",
   "metadata": {},
   "source": [
    "#### 5. Collaborative Filtering Recommender"
   ]
  },
  {
   "cell_type": "code",
   "execution_count": 95,
   "id": "a0501f94",
   "metadata": {},
   "outputs": [
    {
     "name": "stdout",
     "output_type": "stream",
     "text": [
      "Selected user: 495\n"
     ]
    }
   ],
   "source": [
    "users_ratings = ratings_df.groupby(['userId']).count()\n",
    "\n",
    "selected = users_ratings['rating'] > 100\n",
    "selected_users = users_ratings.loc[selected]\n",
    "random_selected = selected_users.sample() # sample() returns a random row from the dataframe. The returned object is a dataframe with one row. If you pass a number as argument you specify to select more than one row.\n",
    "select_column_df = random_selected.reset_index()['userId'] # reset_index() create a new index, and the userId became a column. Then, we can filter using the column name\n",
    "selected_user = select_column_df.iloc[0] # iloc select by index, since our dataframe only has one row we read it from the index 0\n",
    "print(\"Selected user: \" + str(selected_user))"
   ]
  },
  {
   "cell_type": "code",
   "execution_count": 88,
   "id": "3490dad4",
   "metadata": {},
   "outputs": [
    {
     "data": {
      "text/html": [
       "<div>\n",
       "<style scoped>\n",
       "    .dataframe tbody tr th:only-of-type {\n",
       "        vertical-align: middle;\n",
       "    }\n",
       "\n",
       "    .dataframe tbody tr th {\n",
       "        vertical-align: top;\n",
       "    }\n",
       "\n",
       "    .dataframe thead th {\n",
       "        text-align: right;\n",
       "    }\n",
       "</style>\n",
       "<table border=\"1\" class=\"dataframe\">\n",
       "  <thead>\n",
       "    <tr style=\"text-align: right;\">\n",
       "      <th></th>\n",
       "      <th>user</th>\n",
       "      <th>item</th>\n",
       "      <th>rating</th>\n",
       "      <th>timestamp</th>\n",
       "    </tr>\n",
       "  </thead>\n",
       "  <tbody>\n",
       "    <tr>\n",
       "      <th>0</th>\n",
       "      <td>1</td>\n",
       "      <td>1</td>\n",
       "      <td>4.0</td>\n",
       "      <td>964982703</td>\n",
       "    </tr>\n",
       "    <tr>\n",
       "      <th>1</th>\n",
       "      <td>1</td>\n",
       "      <td>3</td>\n",
       "      <td>4.0</td>\n",
       "      <td>964981247</td>\n",
       "    </tr>\n",
       "    <tr>\n",
       "      <th>2</th>\n",
       "      <td>1</td>\n",
       "      <td>6</td>\n",
       "      <td>4.0</td>\n",
       "      <td>964982224</td>\n",
       "    </tr>\n",
       "    <tr>\n",
       "      <th>3</th>\n",
       "      <td>1</td>\n",
       "      <td>47</td>\n",
       "      <td>5.0</td>\n",
       "      <td>964983815</td>\n",
       "    </tr>\n",
       "    <tr>\n",
       "      <th>4</th>\n",
       "      <td>1</td>\n",
       "      <td>50</td>\n",
       "      <td>5.0</td>\n",
       "      <td>964982931</td>\n",
       "    </tr>\n",
       "    <tr>\n",
       "      <th>5</th>\n",
       "      <td>1</td>\n",
       "      <td>70</td>\n",
       "      <td>3.0</td>\n",
       "      <td>964982400</td>\n",
       "    </tr>\n",
       "    <tr>\n",
       "      <th>6</th>\n",
       "      <td>1</td>\n",
       "      <td>101</td>\n",
       "      <td>5.0</td>\n",
       "      <td>964980868</td>\n",
       "    </tr>\n",
       "    <tr>\n",
       "      <th>7</th>\n",
       "      <td>1</td>\n",
       "      <td>110</td>\n",
       "      <td>4.0</td>\n",
       "      <td>964982176</td>\n",
       "    </tr>\n",
       "    <tr>\n",
       "      <th>8</th>\n",
       "      <td>1</td>\n",
       "      <td>151</td>\n",
       "      <td>5.0</td>\n",
       "      <td>964984041</td>\n",
       "    </tr>\n",
       "    <tr>\n",
       "      <th>9</th>\n",
       "      <td>1</td>\n",
       "      <td>157</td>\n",
       "      <td>5.0</td>\n",
       "      <td>964984100</td>\n",
       "    </tr>\n",
       "  </tbody>\n",
       "</table>\n",
       "</div>"
      ],
      "text/plain": [
       "   user  item  rating  timestamp\n",
       "0     1     1     4.0  964982703\n",
       "1     1     3     4.0  964981247\n",
       "2     1     6     4.0  964982224\n",
       "3     1    47     5.0  964983815\n",
       "4     1    50     5.0  964982931\n",
       "5     1    70     3.0  964982400\n",
       "6     1   101     5.0  964980868\n",
       "7     1   110     4.0  964982176\n",
       "8     1   151     5.0  964984041\n",
       "9     1   157     5.0  964984100"
      ]
     },
     "metadata": {},
     "output_type": "display_data"
    }
   ],
   "source": [
    "from lenskit.algorithms import Recommender\n",
    "from lenskit.algorithms.user_knn import UserUser\n",
    "\n",
    "# We need to rename the columns of our dataframe, lenskit needs the columns 'user', 'item' and 'rating'\n",
    "rating_lenskit_df = ratings_df.rename(columns={'userId': 'user', 'movieId': 'item'})\n",
    "# rating_lenskit_df = pd.read_csv(dataset_folder+\"/ratings.csv\", header=0, names=['user', 'item','rating', 'timestamp']) \n",
    "display(rating_lenskit_df.head(10))"
   ]
  },
  {
   "cell_type": "code",
   "execution_count": 91,
   "id": "75d1c11c",
   "metadata": {},
   "outputs": [
    {
     "data": {
      "text/html": [
       "<div>\n",
       "<style scoped>\n",
       "    .dataframe tbody tr th:only-of-type {\n",
       "        vertical-align: middle;\n",
       "    }\n",
       "\n",
       "    .dataframe tbody tr th {\n",
       "        vertical-align: top;\n",
       "    }\n",
       "\n",
       "    .dataframe thead th {\n",
       "        text-align: right;\n",
       "    }\n",
       "</style>\n",
       "<table border=\"1\" class=\"dataframe\">\n",
       "  <thead>\n",
       "    <tr style=\"text-align: right;\">\n",
       "      <th></th>\n",
       "      <th>title</th>\n",
       "      <th>genres</th>\n",
       "    </tr>\n",
       "    <tr>\n",
       "      <th>item</th>\n",
       "      <th></th>\n",
       "      <th></th>\n",
       "    </tr>\n",
       "  </thead>\n",
       "  <tbody>\n",
       "    <tr>\n",
       "      <th>1</th>\n",
       "      <td>Toy Story (1995)</td>\n",
       "      <td>Adventure|Animation|Children|Comedy|Fantasy</td>\n",
       "    </tr>\n",
       "    <tr>\n",
       "      <th>2</th>\n",
       "      <td>Jumanji (1995)</td>\n",
       "      <td>Adventure|Children|Fantasy</td>\n",
       "    </tr>\n",
       "    <tr>\n",
       "      <th>3</th>\n",
       "      <td>Grumpier Old Men (1995)</td>\n",
       "      <td>Comedy|Romance</td>\n",
       "    </tr>\n",
       "    <tr>\n",
       "      <th>4</th>\n",
       "      <td>Waiting to Exhale (1995)</td>\n",
       "      <td>Comedy|Drama|Romance</td>\n",
       "    </tr>\n",
       "    <tr>\n",
       "      <th>5</th>\n",
       "      <td>Father of the Bride Part II (1995)</td>\n",
       "      <td>Comedy</td>\n",
       "    </tr>\n",
       "    <tr>\n",
       "      <th>6</th>\n",
       "      <td>Heat (1995)</td>\n",
       "      <td>Action|Crime|Thriller</td>\n",
       "    </tr>\n",
       "    <tr>\n",
       "      <th>7</th>\n",
       "      <td>Sabrina (1995)</td>\n",
       "      <td>Comedy|Romance</td>\n",
       "    </tr>\n",
       "    <tr>\n",
       "      <th>8</th>\n",
       "      <td>Tom and Huck (1995)</td>\n",
       "      <td>Adventure|Children</td>\n",
       "    </tr>\n",
       "    <tr>\n",
       "      <th>9</th>\n",
       "      <td>Sudden Death (1995)</td>\n",
       "      <td>Action</td>\n",
       "    </tr>\n",
       "    <tr>\n",
       "      <th>10</th>\n",
       "      <td>GoldenEye (1995)</td>\n",
       "      <td>Action|Adventure|Thriller</td>\n",
       "    </tr>\n",
       "  </tbody>\n",
       "</table>\n",
       "</div>"
      ],
      "text/plain": [
       "                                   title  \\\n",
       "item                                       \n",
       "1                       Toy Story (1995)   \n",
       "2                         Jumanji (1995)   \n",
       "3                Grumpier Old Men (1995)   \n",
       "4               Waiting to Exhale (1995)   \n",
       "5     Father of the Bride Part II (1995)   \n",
       "6                            Heat (1995)   \n",
       "7                         Sabrina (1995)   \n",
       "8                    Tom and Huck (1995)   \n",
       "9                    Sudden Death (1995)   \n",
       "10                      GoldenEye (1995)   \n",
       "\n",
       "                                           genres  \n",
       "item                                               \n",
       "1     Adventure|Animation|Children|Comedy|Fantasy  \n",
       "2                      Adventure|Children|Fantasy  \n",
       "3                                  Comedy|Romance  \n",
       "4                            Comedy|Drama|Romance  \n",
       "5                                          Comedy  \n",
       "6                           Action|Crime|Thriller  \n",
       "7                                  Comedy|Romance  \n",
       "8                              Adventure|Children  \n",
       "9                                          Action  \n",
       "10                      Action|Adventure|Thriller  "
      ]
     },
     "metadata": {},
     "output_type": "display_data"
    }
   ],
   "source": [
    "movies_lenskit_df = movies_df.copy(deep=True)\n",
    "movies_lenskit_df.index.names = ['item']\n",
    "display(movies_lenskit_df.head(10))"
   ]
  },
  {
   "cell_type": "code",
   "execution_count": 96,
   "id": "dec7be19",
   "metadata": {},
   "outputs": [
    {
     "data": {
      "text/html": [
       "<div>\n",
       "<style scoped>\n",
       "    .dataframe tbody tr th:only-of-type {\n",
       "        vertical-align: middle;\n",
       "    }\n",
       "\n",
       "    .dataframe tbody tr th {\n",
       "        vertical-align: top;\n",
       "    }\n",
       "\n",
       "    .dataframe thead th {\n",
       "        text-align: right;\n",
       "    }\n",
       "</style>\n",
       "<table border=\"1\" class=\"dataframe\">\n",
       "  <thead>\n",
       "    <tr style=\"text-align: right;\">\n",
       "      <th></th>\n",
       "      <th>item</th>\n",
       "      <th>score</th>\n",
       "    </tr>\n",
       "  </thead>\n",
       "  <tbody>\n",
       "    <tr>\n",
       "      <th>0</th>\n",
       "      <td>3030</td>\n",
       "      <td>5.746660</td>\n",
       "    </tr>\n",
       "    <tr>\n",
       "      <th>1</th>\n",
       "      <td>8542</td>\n",
       "      <td>5.588559</td>\n",
       "    </tr>\n",
       "    <tr>\n",
       "      <th>2</th>\n",
       "      <td>2511</td>\n",
       "      <td>5.583618</td>\n",
       "    </tr>\n",
       "    <tr>\n",
       "      <th>3</th>\n",
       "      <td>3494</td>\n",
       "      <td>5.581411</td>\n",
       "    </tr>\n",
       "    <tr>\n",
       "      <th>4</th>\n",
       "      <td>5075</td>\n",
       "      <td>5.486634</td>\n",
       "    </tr>\n",
       "    <tr>\n",
       "      <th>5</th>\n",
       "      <td>2936</td>\n",
       "      <td>5.458198</td>\n",
       "    </tr>\n",
       "    <tr>\n",
       "      <th>6</th>\n",
       "      <td>5747</td>\n",
       "      <td>5.431861</td>\n",
       "    </tr>\n",
       "    <tr>\n",
       "      <th>7</th>\n",
       "      <td>3606</td>\n",
       "      <td>5.419078</td>\n",
       "    </tr>\n",
       "    <tr>\n",
       "      <th>8</th>\n",
       "      <td>27156</td>\n",
       "      <td>5.404012</td>\n",
       "    </tr>\n",
       "    <tr>\n",
       "      <th>9</th>\n",
       "      <td>3508</td>\n",
       "      <td>5.340424</td>\n",
       "    </tr>\n",
       "  </tbody>\n",
       "</table>\n",
       "</div>"
      ],
      "text/plain": [
       "    item     score\n",
       "0   3030  5.746660\n",
       "1   8542  5.588559\n",
       "2   2511  5.583618\n",
       "3   3494  5.581411\n",
       "4   5075  5.486634\n",
       "5   2936  5.458198\n",
       "6   5747  5.431861\n",
       "7   3606  5.419078\n",
       "8  27156  5.404012\n",
       "9   3508  5.340424"
      ]
     },
     "metadata": {},
     "output_type": "display_data"
    }
   ],
   "source": [
    "# We use the collaborative user algorithm UserUser, that use the nearest neighbors \n",
    "num_recs = 10  # Number of recommendations to generate\n",
    "user_user = UserUser(15, min_nbrs=3)  # Minimum (3) and maximum (15) number of neighbors to consider\n",
    "algo = Recommender.adapt(user_user)\n",
    "algo.fit(rating_lenskit_df)\n",
    "selected_movies = algo.recommend(selected_user, 10) # generate 10 recommendations for the selected user \n",
    "display(selected_movies)"
   ]
  },
  {
   "cell_type": "code",
   "execution_count": 97,
   "id": "0dd06768",
   "metadata": {},
   "outputs": [
    {
     "data": {
      "text/html": [
       "<div>\n",
       "<style scoped>\n",
       "    .dataframe tbody tr th:only-of-type {\n",
       "        vertical-align: middle;\n",
       "    }\n",
       "\n",
       "    .dataframe tbody tr th {\n",
       "        vertical-align: top;\n",
       "    }\n",
       "\n",
       "    .dataframe thead th {\n",
       "        text-align: right;\n",
       "    }\n",
       "</style>\n",
       "<table border=\"1\" class=\"dataframe\">\n",
       "  <thead>\n",
       "    <tr style=\"text-align: right;\">\n",
       "      <th></th>\n",
       "      <th>item</th>\n",
       "      <th>score</th>\n",
       "      <th>title</th>\n",
       "    </tr>\n",
       "  </thead>\n",
       "  <tbody>\n",
       "    <tr>\n",
       "      <th>0</th>\n",
       "      <td>3030</td>\n",
       "      <td>5.746660</td>\n",
       "      <td>Yojimbo (1961)</td>\n",
       "    </tr>\n",
       "    <tr>\n",
       "      <th>1</th>\n",
       "      <td>8542</td>\n",
       "      <td>5.588559</td>\n",
       "      <td>Day at the Races, A (1937)</td>\n",
       "    </tr>\n",
       "    <tr>\n",
       "      <th>2</th>\n",
       "      <td>2511</td>\n",
       "      <td>5.583618</td>\n",
       "      <td>Long Goodbye, The (1973)</td>\n",
       "    </tr>\n",
       "    <tr>\n",
       "      <th>3</th>\n",
       "      <td>3494</td>\n",
       "      <td>5.581411</td>\n",
       "      <td>True Grit (1969)</td>\n",
       "    </tr>\n",
       "    <tr>\n",
       "      <th>4</th>\n",
       "      <td>5075</td>\n",
       "      <td>5.486634</td>\n",
       "      <td>Waydowntown (2000)</td>\n",
       "    </tr>\n",
       "    <tr>\n",
       "      <th>5</th>\n",
       "      <td>2936</td>\n",
       "      <td>5.458198</td>\n",
       "      <td>Sullivan's Travels (1941)</td>\n",
       "    </tr>\n",
       "    <tr>\n",
       "      <th>6</th>\n",
       "      <td>5747</td>\n",
       "      <td>5.431861</td>\n",
       "      <td>Gallipoli (1981)</td>\n",
       "    </tr>\n",
       "    <tr>\n",
       "      <th>7</th>\n",
       "      <td>3606</td>\n",
       "      <td>5.419078</td>\n",
       "      <td>On the Town (1949)</td>\n",
       "    </tr>\n",
       "    <tr>\n",
       "      <th>8</th>\n",
       "      <td>27156</td>\n",
       "      <td>5.404012</td>\n",
       "      <td>Neon Genesis Evangelion: The End of Evangelion...</td>\n",
       "    </tr>\n",
       "    <tr>\n",
       "      <th>9</th>\n",
       "      <td>3508</td>\n",
       "      <td>5.340424</td>\n",
       "      <td>Outlaw Josey Wales, The (1976)</td>\n",
       "    </tr>\n",
       "  </tbody>\n",
       "</table>\n",
       "</div>"
      ],
      "text/plain": [
       "    item     score                                              title\n",
       "0   3030  5.746660                                     Yojimbo (1961)\n",
       "1   8542  5.588559                         Day at the Races, A (1937)\n",
       "2   2511  5.583618                           Long Goodbye, The (1973)\n",
       "3   3494  5.581411                                   True Grit (1969)\n",
       "4   5075  5.486634                                 Waydowntown (2000)\n",
       "5   2936  5.458198                          Sullivan's Travels (1941)\n",
       "6   5747  5.431861                                   Gallipoli (1981)\n",
       "7   3606  5.419078                                 On the Town (1949)\n",
       "8  27156  5.404012  Neon Genesis Evangelion: The End of Evangelion...\n",
       "9   3508  5.340424                     Outlaw Josey Wales, The (1976)"
      ]
     },
     "execution_count": 97,
     "metadata": {},
     "output_type": "execute_result"
    }
   ],
   "source": [
    "selected_movies.join(movies_lenskit_df['title'], on='item')"
   ]
  },
  {
   "cell_type": "code",
   "execution_count": null,
   "id": "2e8b5023",
   "metadata": {},
   "outputs": [],
   "source": []
  }
 ],
 "metadata": {
  "kernelspec": {
   "display_name": "Python 3",
   "language": "python",
   "name": "python3"
  },
  "language_info": {
   "codemirror_mode": {
    "name": "ipython",
    "version": 3
   },
   "file_extension": ".py",
   "mimetype": "text/x-python",
   "name": "python",
   "nbconvert_exporter": "python",
   "pygments_lexer": "ipython3",
   "version": "3.6.8"
  }
 },
 "nbformat": 4,
 "nbformat_minor": 5
}
